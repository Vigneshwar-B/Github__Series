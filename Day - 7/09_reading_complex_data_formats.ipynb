{
  "cells": [
    {
      "cell_type": "code",
      "execution_count": null,
      "id": "dbe4fbc4-86d7-41e8-8d59-33cc91c9cf2a",
      "metadata": {
        "id": "dbe4fbc4-86d7-41e8-8d59-33cc91c9cf2a",
        "outputId": "05278ef1-4878-46c3-a33a-c44d0a605b6f"
      },
      "outputs": [
        {
          "data": {
            "text/html": [
              "\n",
              "            <div>\n",
              "                <p><b>SparkSession - in-memory</b></p>\n",
              "                \n",
              "        <div>\n",
              "            <p><b>SparkContext</b></p>\n",
              "\n",
              "            <p><a href=\"http://b96cbc5ef428:4040\">Spark UI</a></p>\n",
              "\n",
              "            <dl>\n",
              "              <dt>Version</dt>\n",
              "                <dd><code>v3.3.0</code></dd>\n",
              "              <dt>Master</dt>\n",
              "                <dd><code>local[*]</code></dd>\n",
              "              <dt>AppName</dt>\n",
              "                <dd><code>Reading Complex Data Formats</code></dd>\n",
              "            </dl>\n",
              "        </div>\n",
              "        \n",
              "            </div>\n",
              "        "
            ],
            "text/plain": [
              "<pyspark.sql.session.SparkSession at 0x7ff94b786f20>"
            ]
          },
          "execution_count": 1,
          "metadata": {},
          "output_type": "execute_result"
        }
      ],
      "source": [
        "# Spark Session\n",
        "from pyspark.sql import SparkSession\n",
        "\n",
        "spark = (\n",
        "    SparkSession\n",
        "    .builder\n",
        "    .appName(\"Reading Complex Data Formats\")\n",
        "    .master(\"local[*]\")\n",
        "    .getOrCreate()\n",
        ")\n",
        "\n",
        "spark"
      ]
    },
    {
      "cell_type": "code",
      "execution_count": null,
      "id": "0d4cb23b-6797-4129-b528-9d054eac726d",
      "metadata": {
        "id": "0d4cb23b-6797-4129-b528-9d054eac726d"
      },
      "outputs": [],
      "source": [
        "# Read Parquet Sales data\n",
        "\n",
        "df_parquet = spark.read.format(\"parquet\").load(\"data/input/sales_total_parquet/*.parquet\")"
      ]
    },
    {
      "cell_type": "code",
      "execution_count": null,
      "id": "0fc792ec-0667-4a84-a2da-14b753e54948",
      "metadata": {
        "id": "0fc792ec-0667-4a84-a2da-14b753e54948",
        "outputId": "34b19739-ef3e-4f07-e6cf-049a04cd583b"
      },
      "outputs": [
        {
          "name": "stdout",
          "output_type": "stream",
          "text": [
            "root\n",
            " |-- transacted_at: timestamp (nullable = true)\n",
            " |-- trx_id: integer (nullable = true)\n",
            " |-- retailer_id: integer (nullable = true)\n",
            " |-- description: string (nullable = true)\n",
            " |-- amount: double (nullable = true)\n",
            " |-- city_id: integer (nullable = true)\n",
            "\n"
          ]
        }
      ],
      "source": [
        "df_parquet.printSchema()"
      ]
    },
    {
      "cell_type": "code",
      "execution_count": null,
      "id": "5806879c-1845-4c51-9be4-dbdbaf2032fc",
      "metadata": {
        "id": "5806879c-1845-4c51-9be4-dbdbaf2032fc",
        "outputId": "a2a06b83-fbb0-4c1d-9be3-46379325f599"
      },
      "outputs": [
        {
          "name": "stdout",
          "output_type": "stream",
          "text": [
            "+-------------------+----------+-----------+--------------------+-------+----------+\n",
            "|      transacted_at|    trx_id|retailer_id|         description| amount|   city_id|\n",
            "+-------------------+----------+-----------+--------------------+-------+----------+\n",
            "|2017-12-27 19:00:00| 330765426|  887300947|Kroger   ccd id: ...|  33.56|2068475652|\n",
            "|2017-11-26 21:00:00|1377679664| 1070485878|Amazon.com    ccd...|  24.43|1640819540|\n",
            "|2017-12-12 23:00:00| 472018705| 2001148981|  unkn      Columbia|   1.24| 481821583|\n",
            "|2017-05-19 19:00:00|1127671830|  847200066|            Wal-Mart|2155.48|2074005445|\n",
            "|2017-11-17 21:00:00| 233137169|  847200066|            Wal-Mart|   4.13|2043825401|\n",
            "|2017-12-15 12:00:00| 603124844|  887300947|Kroger   ccd id: ...|  31.92|1640819540|\n",
            "|2017-11-08 12:00:00|1591888712|  143327090|  Menard       11-08|   42.3|2043825401|\n",
            "|2017-12-23 12:00:00|1775468459|  887300947|Kroger  arc id: 1...|  284.8|2055198208|\n",
            "|2017-09-01 13:00:00|1020833609| 2120842315|Burger King   ccd...|   20.2|1141716004|\n",
            "|2017-11-30 12:00:00|1714628652| 1898522855|Target    ppd id:...| 488.42| 569532635|\n",
            "|2017-11-26 23:00:00|1533320464|   62988535|Bed Bath & Beyond...|    6.1|1098014353|\n",
            "|2017-11-28 21:00:00|2057742958|  562903918|McDonald's     pp...|2051.68|1487857621|\n",
            "|2017-01-25 19:00:00| 123604891|  847200066|Wal-Mart    ccd i...|  23.53|  45522086|\n",
            "|2017-05-21 21:00:00|1660120794|  865681996|Nordstrom     arc...| 708.81|  28424447|\n",
            "|2017-12-18 22:00:00|1882911667|  997626433|Sears        Anka...| 160.29|1698762556|\n",
            "|2017-11-24 20:00:00| 734317675|  511877722|Best Buy    arc i...| 1104.7|2001708947|\n",
            "|2017-12-21 18:00:00| 513313448|  887300947|unkn    arc id: 9...|   32.7|2023698313|\n",
            "|2017-12-13 19:00:00|1380128813|  582210968|unkn     ppd id: ...|  19.88|1359730291|\n",
            "|2017-11-15 20:00:00| 941860469|  887300947|Kroger     arc id...|  55.69|  31398417|\n",
            "|2017-12-06 23:00:00|1957163946|  400404203|unkn   arc id: 97...|   9.24|1284771958|\n",
            "+-------------------+----------+-----------+--------------------+-------+----------+\n",
            "only showing top 20 rows\n",
            "\n"
          ]
        }
      ],
      "source": [
        "df_parquet.show()"
      ]
    },
    {
      "cell_type": "code",
      "execution_count": null,
      "id": "9c030cca-3fb1-4d7d-b921-c075f26696a6",
      "metadata": {
        "id": "9c030cca-3fb1-4d7d-b921-c075f26696a6"
      },
      "outputs": [],
      "source": [
        "# Read ORC Sales data\n",
        "\n",
        "df_orc = spark.read.format(\"orc\").load(\"data/input/sales_total_orc/*.orc\")"
      ]
    },
    {
      "cell_type": "code",
      "execution_count": null,
      "id": "4560e1ed-25d0-4b75-9749-8b7d8f66245d",
      "metadata": {
        "id": "4560e1ed-25d0-4b75-9749-8b7d8f66245d",
        "outputId": "37a57c52-1ac3-4ecb-bbec-1de5bc7206a8"
      },
      "outputs": [
        {
          "name": "stdout",
          "output_type": "stream",
          "text": [
            "root\n",
            " |-- transacted_at: timestamp (nullable = true)\n",
            " |-- trx_id: integer (nullable = true)\n",
            " |-- retailer_id: integer (nullable = true)\n",
            " |-- description: string (nullable = true)\n",
            " |-- amount: double (nullable = true)\n",
            " |-- city_id: integer (nullable = true)\n",
            "\n"
          ]
        }
      ],
      "source": [
        "df_orc.printSchema()"
      ]
    },
    {
      "cell_type": "code",
      "execution_count": null,
      "id": "929c68f5-6688-4525-ba11-586f2a13c5bf",
      "metadata": {
        "id": "929c68f5-6688-4525-ba11-586f2a13c5bf",
        "outputId": "54a31b6f-aa47-4a70-93d7-5f7e07d60254"
      },
      "outputs": [
        {
          "name": "stdout",
          "output_type": "stream",
          "text": [
            "+-------------------+----------+-----------+--------------------+-------+----------+\n",
            "|      transacted_at|    trx_id|retailer_id|         description| amount|   city_id|\n",
            "+-------------------+----------+-----------+--------------------+-------+----------+\n",
            "|2017-12-27 19:00:00| 330765426|  887300947|Kroger   ccd id: ...|  33.56|2068475652|\n",
            "|2017-11-26 21:00:00|1377679664| 1070485878|Amazon.com    ccd...|  24.43|1640819540|\n",
            "|2017-12-12 23:00:00| 472018705| 2001148981|  unkn      Columbia|   1.24| 481821583|\n",
            "|2017-05-19 19:00:00|1127671830|  847200066|            Wal-Mart|2155.48|2074005445|\n",
            "|2017-11-17 21:00:00| 233137169|  847200066|            Wal-Mart|   4.13|2043825401|\n",
            "|2017-12-15 12:00:00| 603124844|  887300947|Kroger   ccd id: ...|  31.92|1640819540|\n",
            "|2017-11-08 12:00:00|1591888712|  143327090|  Menard       11-08|   42.3|2043825401|\n",
            "|2017-12-23 12:00:00|1775468459|  887300947|Kroger  arc id: 1...|  284.8|2055198208|\n",
            "|2017-09-01 13:00:00|1020833609| 2120842315|Burger King   ccd...|   20.2|1141716004|\n",
            "|2017-11-30 12:00:00|1714628652| 1898522855|Target    ppd id:...| 488.42| 569532635|\n",
            "|2017-11-26 23:00:00|1533320464|   62988535|Bed Bath & Beyond...|    6.1|1098014353|\n",
            "|2017-11-28 21:00:00|2057742958|  562903918|McDonald's     pp...|2051.68|1487857621|\n",
            "|2017-01-25 19:00:00| 123604891|  847200066|Wal-Mart    ccd i...|  23.53|  45522086|\n",
            "|2017-05-21 21:00:00|1660120794|  865681996|Nordstrom     arc...| 708.81|  28424447|\n",
            "|2017-12-18 22:00:00|1882911667|  997626433|Sears        Anka...| 160.29|1698762556|\n",
            "|2017-11-24 20:00:00| 734317675|  511877722|Best Buy    arc i...| 1104.7|2001708947|\n",
            "|2017-12-21 18:00:00| 513313448|  887300947|unkn    arc id: 9...|   32.7|2023698313|\n",
            "|2017-12-13 19:00:00|1380128813|  582210968|unkn     ppd id: ...|  19.88|1359730291|\n",
            "|2017-11-15 20:00:00| 941860469|  887300947|Kroger     arc id...|  55.69|  31398417|\n",
            "|2017-12-06 23:00:00|1957163946|  400404203|unkn   arc id: 97...|   9.24|1284771958|\n",
            "+-------------------+----------+-----------+--------------------+-------+----------+\n",
            "only showing top 20 rows\n",
            "\n"
          ]
        }
      ],
      "source": [
        "df_orc.show()"
      ]
    },
    {
      "cell_type": "code",
      "execution_count": null,
      "id": "d6fed4fc-7a15-427b-abc6-be320b2ee2b9",
      "metadata": {
        "id": "d6fed4fc-7a15-427b-abc6-be320b2ee2b9"
      },
      "outputs": [],
      "source": [
        "# Benefits of Columnar Storage\n",
        "\n",
        "# Lets create a simple Python decorator - {get_time} to get the execution timings\n",
        "# If you dont know about Python decorators - check out : https://www.geeksforgeeks.org/decorators-in-python/\n",
        "import time\n",
        "\n",
        "def get_time(func):\n",
        "    def inner_get_time() -> str:\n",
        "        start_time = time.time()\n",
        "        func()\n",
        "        end_time = time.time()\n",
        "        return (f\"Execution time: {(end_time - start_time)*1000} ms\")\n",
        "    print(inner_get_time())"
      ]
    },
    {
      "cell_type": "code",
      "execution_count": null,
      "id": "ce5ab3ee-1c16-4360-bfb5-9a26acbf2635",
      "metadata": {
        "id": "ce5ab3ee-1c16-4360-bfb5-9a26acbf2635",
        "outputId": "119b8c7a-2024-4822-9275-da91575041e6"
      },
      "outputs": [
        {
          "name": "stdout",
          "output_type": "stream",
          "text": [
            "Execution time: 672.5492477416992 ms\n"
          ]
        }
      ],
      "source": [
        "@get_time\n",
        "def x():\n",
        "    df = spark.read.format(\"parquet\").load(\"data/input/sales_data.parquet\")\n",
        "    df.count()"
      ]
    },
    {
      "cell_type": "code",
      "execution_count": null,
      "id": "37f3c804-033e-4d72-aa40-5df96fa03642",
      "metadata": {
        "id": "37f3c804-033e-4d72-aa40-5df96fa03642",
        "outputId": "44662c79-0741-4250-b9a6-04314146e905"
      },
      "outputs": [
        {
          "name": "stdout",
          "output_type": "stream",
          "text": [
            "Execution time: 348.848819732666 ms\n"
          ]
        }
      ],
      "source": [
        "@get_time\n",
        "def x():\n",
        "    df = spark.read.format(\"parquet\").load(\"data/input/sales_data.parquet\")\n",
        "    df.select(\"trx_id\").count()"
      ]
    },
    {
      "cell_type": "code",
      "execution_count": null,
      "id": "9c0b99f7-a30c-401f-a5fa-9f45f98ecedc",
      "metadata": {
        "id": "9c0b99f7-a30c-401f-a5fa-9f45f98ecedc"
      },
      "outputs": [],
      "source": []
    },
    {
      "cell_type": "code",
      "execution_count": null,
      "id": "c0baad72-a380-416d-96b4-d8d85834294e",
      "metadata": {
        "id": "c0baad72-a380-416d-96b4-d8d85834294e"
      },
      "outputs": [],
      "source": [
        "# BONUS TIP\n",
        "# RECURSIVE READ\n",
        "\n",
        "sales_recursive\n",
        "|__ sales_1\\1.parquet\n",
        "|__ sales_1\\sales_2\\2.parquet\n",
        "\n"
      ]
    },
    {
      "cell_type": "code",
      "execution_count": null,
      "id": "21e5e859-b04f-4030-a1fc-ba35f4ab6a10",
      "metadata": {
        "id": "21e5e859-b04f-4030-a1fc-ba35f4ab6a10",
        "outputId": "bd6c9e3d-7dba-41af-d79b-219f68d04bd0"
      },
      "outputs": [
        {
          "name": "stdout",
          "output_type": "stream",
          "text": [
            "+-------------------+----------+-----------+--------------------+------+---------+\n",
            "|      transacted_at|    trx_id|retailer_id|         description|amount|  city_id|\n",
            "+-------------------+----------+-----------+--------------------+------+---------+\n",
            "|2017-11-24 19:00:00|1734117021|  644879053|unkn    ppd id: 7...|  8.58|930259917|\n",
            "+-------------------+----------+-----------+--------------------+------+---------+\n",
            "\n"
          ]
        }
      ],
      "source": [
        "df_1 = spark.read.format(\"parquet\").load(\"data/input/sales_recursive/sales_1/1.parquet\")\n",
        "df_1.show()"
      ]
    },
    {
      "cell_type": "code",
      "execution_count": null,
      "id": "d50b2043-d55c-4b02-91cb-842fe9439935",
      "metadata": {
        "id": "d50b2043-d55c-4b02-91cb-842fe9439935",
        "outputId": "ec3c5a5c-7c0b-47fb-cc42-55123cb6ad5c"
      },
      "outputs": [
        {
          "name": "stdout",
          "output_type": "stream",
          "text": [
            "+-------------------+----------+-----------+--------------------+------+--------+\n",
            "|      transacted_at|    trx_id|retailer_id|         description|amount| city_id|\n",
            "+-------------------+----------+-----------+--------------------+------+--------+\n",
            "|2017-11-24 19:00:00|1734117123| 1953761884|unkn   ppd id: 15...| 19.55|45522086|\n",
            "+-------------------+----------+-----------+--------------------+------+--------+\n",
            "\n"
          ]
        }
      ],
      "source": [
        "df_1 = spark.read.format(\"parquet\").load(\"data/input/sales_recursive/sales_1/sales_2/2.parquet\")\n",
        "df_1.show()"
      ]
    },
    {
      "cell_type": "code",
      "execution_count": null,
      "id": "b5db0656-7060-432b-ba4e-eea6fa1c7404",
      "metadata": {
        "id": "b5db0656-7060-432b-ba4e-eea6fa1c7404",
        "outputId": "70c74d4d-0e1b-4b41-cfaf-29d2cf8af445"
      },
      "outputs": [
        {
          "name": "stdout",
          "output_type": "stream",
          "text": [
            "+-------------------+----------+-----------+--------------------+------+---------+\n",
            "|      transacted_at|    trx_id|retailer_id|         description|amount|  city_id|\n",
            "+-------------------+----------+-----------+--------------------+------+---------+\n",
            "|2017-11-24 19:00:00|1734117123| 1953761884|unkn   ppd id: 15...| 19.55| 45522086|\n",
            "|2017-11-24 19:00:00|1734117021|  644879053|unkn    ppd id: 7...|  8.58|930259917|\n",
            "+-------------------+----------+-----------+--------------------+------+---------+\n",
            "\n"
          ]
        }
      ],
      "source": [
        "df_1 = spark.read.format(\"parquet\").option(\"recursiveFileLookup\", True).load(\"data/input/sales_recursive/\")\n",
        "df_1.show()"
      ]
    },
    {
      "cell_type": "code",
      "execution_count": null,
      "id": "75a75655-eb44-402e-b92a-065796c8b7e0",
      "metadata": {
        "id": "75a75655-eb44-402e-b92a-065796c8b7e0"
      },
      "outputs": [],
      "source": []
    }
  ],
  "metadata": {
    "kernelspec": {
      "display_name": "Python 3 (ipykernel)",
      "language": "python",
      "name": "python3"
    },
    "language_info": {
      "codemirror_mode": {
        "name": "ipython",
        "version": 3
      },
      "file_extension": ".py",
      "mimetype": "text/x-python",
      "name": "python",
      "nbconvert_exporter": "python",
      "pygments_lexer": "ipython3",
      "version": "3.10.9"
    },
    "colab": {
      "provenance": []
    }
  },
  "nbformat": 4,
  "nbformat_minor": 5
}