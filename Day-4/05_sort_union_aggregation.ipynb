{
  "cells": [
    {
      "cell_type": "code",
      "execution_count": 1,
      "id": "9913130b-9ed3-4a87-a01d-a13cae0e3204",
      "metadata": {
        "id": "9913130b-9ed3-4a87-a01d-a13cae0e3204",
        "outputId": "9e8a7507-9f05-4622-8efe-cf84657e7f0c",
        "colab": {
          "base_uri": "https://localhost:8080/",
          "height": 219
        }
      },
      "outputs": [
        {
          "output_type": "execute_result",
          "data": {
            "text/plain": [
              "<pyspark.sql.session.SparkSession at 0x787c2fc43a30>"
            ],
            "text/html": [
              "\n",
              "            <div>\n",
              "                <p><b>SparkSession - in-memory</b></p>\n",
              "                \n",
              "        <div>\n",
              "            <p><b>SparkContext</b></p>\n",
              "\n",
              "            <p><a href=\"http://62acfd5a178b:4040\">Spark UI</a></p>\n",
              "\n",
              "            <dl>\n",
              "              <dt>Version</dt>\n",
              "                <dd><code>v3.5.3</code></dd>\n",
              "              <dt>Master</dt>\n",
              "                <dd><code>local[*]</code></dd>\n",
              "              <dt>AppName</dt>\n",
              "                <dd><code>Sort Union & Aggregation</code></dd>\n",
              "            </dl>\n",
              "        </div>\n",
              "        \n",
              "            </div>\n",
              "        "
            ]
          },
          "metadata": {},
          "execution_count": 1
        }
      ],
      "source": [
        "# Spark Session\n",
        "from pyspark.sql import SparkSession\n",
        "\n",
        "spark = (\n",
        "    SparkSession\n",
        "    .builder\n",
        "    .appName(\"Sort Union & Aggregation\")\n",
        "    .master(\"local[*]\")\n",
        "    .getOrCreate()\n",
        ")\n",
        "\n",
        "spark"
      ]
    },
    {
      "cell_type": "code",
      "execution_count": 2,
      "id": "7f6357c0-ccf8-43de-8f7d-69d5a9314fef",
      "metadata": {
        "id": "7f6357c0-ccf8-43de-8f7d-69d5a9314fef"
      },
      "outputs": [],
      "source": [
        "# Emp Data & Schema\n",
        "\n",
        "emp_data_1 = [\n",
        "    [\"001\",\"101\",\"John Doe\",\"30\",\"Male\",\"50000\",\"2015-01-01\"],\n",
        "    [\"002\",\"101\",\"Jane Smith\",\"25\",\"Female\",\"45000\",\"2016-02-15\"],\n",
        "    [\"003\",\"102\",\"Bob Brown\",\"35\",\"Male\",\"55000\",\"2014-05-01\"],\n",
        "    [\"004\",\"102\",\"Alice Lee\",\"28\",\"Female\",\"48000\",\"2017-09-30\"],\n",
        "    [\"005\",\"103\",\"Jack Chan\",\"40\",\"Male\",\"60000\",\"2013-04-01\"],\n",
        "    [\"006\",\"103\",\"Jill Wong\",\"32\",\"Female\",\"52000\",\"2018-07-01\"],\n",
        "    [\"007\",\"101\",\"James Johnson\",\"42\",\"Male\",\"70000\",\"2012-03-15\"],\n",
        "    [\"008\",\"102\",\"Kate Kim\",\"29\",\"Female\",\"51000\",\"2019-10-01\"],\n",
        "    [\"009\",\"103\",\"Tom Tan\",\"33\",\"Male\",\"58000\",\"2016-06-01\"],\n",
        "    [\"010\",\"104\",\"Lisa Lee\",\"27\",\"Female\",\"47000\",\"2018-08-01\"]\n",
        "]\n",
        "\n",
        "emp_data_2 = [\n",
        "    [\"011\",\"104\",\"David Park\",\"38\",\"Male\",\"65000\",\"2015-11-01\"],\n",
        "    [\"012\",\"105\",\"Susan Chen\",\"31\",\"Female\",\"54000\",\"2017-02-15\"],\n",
        "    [\"013\",\"106\",\"Brian Kim\",\"45\",\"Male\",\"75000\",\"2011-07-01\"],\n",
        "    [\"014\",\"107\",\"Emily Lee\",\"26\",\"Female\",\"46000\",\"2019-01-01\"],\n",
        "    [\"015\",\"106\",\"Michael Lee\",\"37\",\"Male\",\"63000\",\"2014-09-30\"],\n",
        "    [\"016\",\"107\",\"Kelly Zhang\",\"30\",\"Female\",\"49000\",\"2018-04-01\"],\n",
        "    [\"017\",\"105\",\"George Wang\",\"34\",\"Male\",\"57000\",\"2016-03-15\"],\n",
        "    [\"018\",\"104\",\"Nancy Liu\",\"29\",\"\",\"50000\",\"2017-06-01\"],\n",
        "    [\"019\",\"103\",\"Steven Chen\",\"36\",\"Male\",\"62000\",\"2015-08-01\"],\n",
        "    [\"020\",\"102\",\"Grace Kim\",\"32\",\"Female\",\"53000\",\"2018-11-01\"]\n",
        "]\n",
        "\n",
        "emp_schema = \"employee_id string, department_id string, name string, age string, gender string, salary string, hire_date string\""
      ]
    },
    {
      "cell_type": "code",
      "execution_count": 3,
      "id": "9bdc19a5-b213-498e-8e1f-63650523c441",
      "metadata": {
        "id": "9bdc19a5-b213-498e-8e1f-63650523c441"
      },
      "outputs": [],
      "source": [
        "# Create emp DataFrame\n",
        "\n",
        "emp_data_1 = spark.createDataFrame(data=emp_data_1, schema=emp_schema)\n",
        "emp_data_2 = spark.createDataFrame(data=emp_data_2, schema=emp_schema)"
      ]
    },
    {
      "cell_type": "code",
      "execution_count": 4,
      "id": "9d81001d-2633-439f-9153-9b1ef27e64a8",
      "metadata": {
        "id": "9d81001d-2633-439f-9153-9b1ef27e64a8",
        "outputId": "788826de-e513-4327-abd2-aba2ae40ec01",
        "colab": {
          "base_uri": "https://localhost:8080/"
        }
      },
      "outputs": [
        {
          "output_type": "stream",
          "name": "stdout",
          "text": [
            "+-----------+-------------+-------------+---+------+------+----------+\n",
            "|employee_id|department_id|         name|age|gender|salary| hire_date|\n",
            "+-----------+-------------+-------------+---+------+------+----------+\n",
            "|        001|          101|     John Doe| 30|  Male| 50000|2015-01-01|\n",
            "|        002|          101|   Jane Smith| 25|Female| 45000|2016-02-15|\n",
            "|        003|          102|    Bob Brown| 35|  Male| 55000|2014-05-01|\n",
            "|        004|          102|    Alice Lee| 28|Female| 48000|2017-09-30|\n",
            "|        005|          103|    Jack Chan| 40|  Male| 60000|2013-04-01|\n",
            "|        006|          103|    Jill Wong| 32|Female| 52000|2018-07-01|\n",
            "|        007|          101|James Johnson| 42|  Male| 70000|2012-03-15|\n",
            "|        008|          102|     Kate Kim| 29|Female| 51000|2019-10-01|\n",
            "|        009|          103|      Tom Tan| 33|  Male| 58000|2016-06-01|\n",
            "|        010|          104|     Lisa Lee| 27|Female| 47000|2018-08-01|\n",
            "+-----------+-------------+-------------+---+------+------+----------+\n",
            "\n",
            "+-----------+-------------+-----------+---+------+------+----------+\n",
            "|employee_id|department_id|       name|age|gender|salary| hire_date|\n",
            "+-----------+-------------+-----------+---+------+------+----------+\n",
            "|        011|          104| David Park| 38|  Male| 65000|2015-11-01|\n",
            "|        012|          105| Susan Chen| 31|Female| 54000|2017-02-15|\n",
            "|        013|          106|  Brian Kim| 45|  Male| 75000|2011-07-01|\n",
            "|        014|          107|  Emily Lee| 26|Female| 46000|2019-01-01|\n",
            "|        015|          106|Michael Lee| 37|  Male| 63000|2014-09-30|\n",
            "|        016|          107|Kelly Zhang| 30|Female| 49000|2018-04-01|\n",
            "|        017|          105|George Wang| 34|  Male| 57000|2016-03-15|\n",
            "|        018|          104|  Nancy Liu| 29|      | 50000|2017-06-01|\n",
            "|        019|          103|Steven Chen| 36|  Male| 62000|2015-08-01|\n",
            "|        020|          102|  Grace Kim| 32|Female| 53000|2018-11-01|\n",
            "+-----------+-------------+-----------+---+------+------+----------+\n",
            "\n"
          ]
        }
      ],
      "source": [
        "# Show emp dataframe (ACTION)\n",
        "\n",
        "emp_data_1.show()\n",
        "emp_data_2.show()"
      ]
    },
    {
      "cell_type": "code",
      "execution_count": 5,
      "id": "d340333a-1ff1-4b60-a602-6342a056cf3a",
      "metadata": {
        "id": "d340333a-1ff1-4b60-a602-6342a056cf3a",
        "outputId": "e5918bb7-9afd-4058-8a6a-778081f950fb",
        "colab": {
          "base_uri": "https://localhost:8080/"
        }
      },
      "outputs": [
        {
          "output_type": "stream",
          "name": "stdout",
          "text": [
            "root\n",
            " |-- employee_id: string (nullable = true)\n",
            " |-- department_id: string (nullable = true)\n",
            " |-- name: string (nullable = true)\n",
            " |-- age: string (nullable = true)\n",
            " |-- gender: string (nullable = true)\n",
            " |-- salary: string (nullable = true)\n",
            " |-- hire_date: string (nullable = true)\n",
            "\n",
            "root\n",
            " |-- employee_id: string (nullable = true)\n",
            " |-- department_id: string (nullable = true)\n",
            " |-- name: string (nullable = true)\n",
            " |-- age: string (nullable = true)\n",
            " |-- gender: string (nullable = true)\n",
            " |-- salary: string (nullable = true)\n",
            " |-- hire_date: string (nullable = true)\n",
            "\n"
          ]
        }
      ],
      "source": [
        "# Print Schema\n",
        "\n",
        "emp_data_1.printSchema()\n",
        "emp_data_2.printSchema()"
      ]
    },
    {
      "cell_type": "code",
      "execution_count": 6,
      "id": "6b99ead2-9509-43b0-83e9-a8f1eaebffe9",
      "metadata": {
        "id": "6b99ead2-9509-43b0-83e9-a8f1eaebffe9"
      },
      "outputs": [],
      "source": [
        "# UNION and UNION ALL\n",
        "# select * from emp_data_1 UNION select * from emp_data_2\n",
        "emp = emp_data_1.unionAll(emp_data_2)\n"
      ]
    },
    {
      "cell_type": "code",
      "execution_count": 7,
      "id": "9eeb53b0-ff7f-4e0e-85ca-fef8ef15ac22",
      "metadata": {
        "id": "9eeb53b0-ff7f-4e0e-85ca-fef8ef15ac22",
        "outputId": "7aa64e81-b61a-49f1-8822-563852387723",
        "colab": {
          "base_uri": "https://localhost:8080/"
        }
      },
      "outputs": [
        {
          "output_type": "stream",
          "name": "stdout",
          "text": [
            "+-----------+-------------+-------------+---+------+------+----------+\n",
            "|employee_id|department_id|         name|age|gender|salary| hire_date|\n",
            "+-----------+-------------+-------------+---+------+------+----------+\n",
            "|        001|          101|     John Doe| 30|  Male| 50000|2015-01-01|\n",
            "|        002|          101|   Jane Smith| 25|Female| 45000|2016-02-15|\n",
            "|        003|          102|    Bob Brown| 35|  Male| 55000|2014-05-01|\n",
            "|        004|          102|    Alice Lee| 28|Female| 48000|2017-09-30|\n",
            "|        005|          103|    Jack Chan| 40|  Male| 60000|2013-04-01|\n",
            "|        006|          103|    Jill Wong| 32|Female| 52000|2018-07-01|\n",
            "|        007|          101|James Johnson| 42|  Male| 70000|2012-03-15|\n",
            "|        008|          102|     Kate Kim| 29|Female| 51000|2019-10-01|\n",
            "|        009|          103|      Tom Tan| 33|  Male| 58000|2016-06-01|\n",
            "|        010|          104|     Lisa Lee| 27|Female| 47000|2018-08-01|\n",
            "|        011|          104|   David Park| 38|  Male| 65000|2015-11-01|\n",
            "|        012|          105|   Susan Chen| 31|Female| 54000|2017-02-15|\n",
            "|        013|          106|    Brian Kim| 45|  Male| 75000|2011-07-01|\n",
            "|        014|          107|    Emily Lee| 26|Female| 46000|2019-01-01|\n",
            "|        015|          106|  Michael Lee| 37|  Male| 63000|2014-09-30|\n",
            "|        016|          107|  Kelly Zhang| 30|Female| 49000|2018-04-01|\n",
            "|        017|          105|  George Wang| 34|  Male| 57000|2016-03-15|\n",
            "|        018|          104|    Nancy Liu| 29|      | 50000|2017-06-01|\n",
            "|        019|          103|  Steven Chen| 36|  Male| 62000|2015-08-01|\n",
            "|        020|          102|    Grace Kim| 32|Female| 53000|2018-11-01|\n",
            "+-----------+-------------+-------------+---+------+------+----------+\n",
            "\n"
          ]
        }
      ],
      "source": [
        "emp.show()"
      ]
    },
    {
      "cell_type": "code",
      "execution_count": 8,
      "id": "40e8d717-c449-42f4-a3e3-6bff56077b6b",
      "metadata": {
        "id": "40e8d717-c449-42f4-a3e3-6bff56077b6b"
      },
      "outputs": [],
      "source": [
        "# Sort the emp data based on desc Salary\n",
        "# select * from emp order by salary desc\n",
        "from pyspark.sql.functions import desc, asc, col\n",
        "\n",
        "emp_sorted = emp.orderBy(col(\"salary\").asc())\n",
        "\n"
      ]
    },
    {
      "cell_type": "code",
      "execution_count": 9,
      "id": "1ef03a22-a05f-40f6-8134-9e555b0871b3",
      "metadata": {
        "id": "1ef03a22-a05f-40f6-8134-9e555b0871b3",
        "outputId": "4d7c27a7-2b40-48fe-bf57-5f8497479404",
        "colab": {
          "base_uri": "https://localhost:8080/"
        }
      },
      "outputs": [
        {
          "output_type": "stream",
          "name": "stdout",
          "text": [
            "+-----------+-------------+-------------+---+------+------+----------+\n",
            "|employee_id|department_id|         name|age|gender|salary| hire_date|\n",
            "+-----------+-------------+-------------+---+------+------+----------+\n",
            "|        002|          101|   Jane Smith| 25|Female| 45000|2016-02-15|\n",
            "|        014|          107|    Emily Lee| 26|Female| 46000|2019-01-01|\n",
            "|        010|          104|     Lisa Lee| 27|Female| 47000|2018-08-01|\n",
            "|        004|          102|    Alice Lee| 28|Female| 48000|2017-09-30|\n",
            "|        016|          107|  Kelly Zhang| 30|Female| 49000|2018-04-01|\n",
            "|        001|          101|     John Doe| 30|  Male| 50000|2015-01-01|\n",
            "|        018|          104|    Nancy Liu| 29|      | 50000|2017-06-01|\n",
            "|        008|          102|     Kate Kim| 29|Female| 51000|2019-10-01|\n",
            "|        006|          103|    Jill Wong| 32|Female| 52000|2018-07-01|\n",
            "|        020|          102|    Grace Kim| 32|Female| 53000|2018-11-01|\n",
            "|        012|          105|   Susan Chen| 31|Female| 54000|2017-02-15|\n",
            "|        003|          102|    Bob Brown| 35|  Male| 55000|2014-05-01|\n",
            "|        017|          105|  George Wang| 34|  Male| 57000|2016-03-15|\n",
            "|        009|          103|      Tom Tan| 33|  Male| 58000|2016-06-01|\n",
            "|        005|          103|    Jack Chan| 40|  Male| 60000|2013-04-01|\n",
            "|        019|          103|  Steven Chen| 36|  Male| 62000|2015-08-01|\n",
            "|        015|          106|  Michael Lee| 37|  Male| 63000|2014-09-30|\n",
            "|        011|          104|   David Park| 38|  Male| 65000|2015-11-01|\n",
            "|        007|          101|James Johnson| 42|  Male| 70000|2012-03-15|\n",
            "|        013|          106|    Brian Kim| 45|  Male| 75000|2011-07-01|\n",
            "+-----------+-------------+-------------+---+------+------+----------+\n",
            "\n"
          ]
        }
      ],
      "source": [
        "emp_sorted.show()"
      ]
    },
    {
      "cell_type": "code",
      "execution_count": 10,
      "id": "ae92a9a3-dd82-41b0-ae7d-bbb341371bb2",
      "metadata": {
        "id": "ae92a9a3-dd82-41b0-ae7d-bbb341371bb2"
      },
      "outputs": [],
      "source": [
        "# Aggregation\n",
        "# select dept_id, count(employee_id) as total_dept_count from emp_sorted group by dept_id\n",
        "from pyspark.sql.functions import count\n",
        "\n",
        "emp_count = emp_sorted.groupBy(\"department_id\").agg(count(\"employee_id\").alias(\"total_dept_count\"))\n"
      ]
    },
    {
      "cell_type": "code",
      "execution_count": 11,
      "id": "97067220-a6ec-49d8-838e-13f64fc7476f",
      "metadata": {
        "id": "97067220-a6ec-49d8-838e-13f64fc7476f",
        "outputId": "a7651b01-1094-49ca-d430-e43821d1e904",
        "colab": {
          "base_uri": "https://localhost:8080/"
        }
      },
      "outputs": [
        {
          "output_type": "stream",
          "name": "stdout",
          "text": [
            "+-------------+----------------+\n",
            "|department_id|total_dept_count|\n",
            "+-------------+----------------+\n",
            "|          101|               3|\n",
            "|          102|               4|\n",
            "|          103|               4|\n",
            "|          104|               3|\n",
            "|          107|               2|\n",
            "|          106|               2|\n",
            "|          105|               2|\n",
            "+-------------+----------------+\n",
            "\n"
          ]
        }
      ],
      "source": [
        "emp_count.show()"
      ]
    },
    {
      "cell_type": "code",
      "execution_count": 12,
      "id": "f5a249be-bfab-4bde-ae61-eb6782660b49",
      "metadata": {
        "id": "f5a249be-bfab-4bde-ae61-eb6782660b49"
      },
      "outputs": [],
      "source": [
        "# Aggregation\n",
        "# select dept_id, sum(salary) as total_dept_salary from emp_sorted group by dept_id\n",
        "from pyspark.sql.functions import sum\n",
        "\n",
        "emp_sum = emp_sorted.groupBy(\"department_id\").agg(sum(\"salary\").alias(\"total_dept_salary\"))\n"
      ]
    },
    {
      "cell_type": "code",
      "execution_count": 13,
      "id": "751c7148-4993-4fd0-acb2-11e4311e3b09",
      "metadata": {
        "id": "751c7148-4993-4fd0-acb2-11e4311e3b09",
        "outputId": "17589a6f-7919-4421-c4f4-1a153d8119a7",
        "colab": {
          "base_uri": "https://localhost:8080/"
        }
      },
      "outputs": [
        {
          "output_type": "stream",
          "name": "stdout",
          "text": [
            "+-------------+-----------------+\n",
            "|department_id|total_dept_salary|\n",
            "+-------------+-----------------+\n",
            "|          101|         165000.0|\n",
            "|          107|          95000.0|\n",
            "|          104|         162000.0|\n",
            "|          102|         207000.0|\n",
            "|          103|         232000.0|\n",
            "|          106|         138000.0|\n",
            "|          105|         111000.0|\n",
            "+-------------+-----------------+\n",
            "\n"
          ]
        }
      ],
      "source": [
        "emp_sum.show()"
      ]
    },
    {
      "cell_type": "code",
      "execution_count": 14,
      "id": "34d9762b-d677-44ff-8312-fe4945a355c6",
      "metadata": {
        "id": "34d9762b-d677-44ff-8312-fe4945a355c6"
      },
      "outputs": [],
      "source": [
        "# Aggregation with having clause\n",
        "# select dept_id, avg(salary) as avg_dept_salary from emp_sorted  group by dept_id having avg(salary) > 50000\n",
        "from pyspark.sql.functions import avg\n",
        "\n",
        "emp_avg = emp_sorted.groupBy(\"department_id\").agg(avg(\"salary\").alias(\"avg_dept_salary\")).where(\"avg_dept_salary > 50000\")\n",
        "\n"
      ]
    },
    {
      "cell_type": "code",
      "execution_count": 15,
      "id": "4fa25aff-5687-4a8f-8828-c99630ff61c2",
      "metadata": {
        "id": "4fa25aff-5687-4a8f-8828-c99630ff61c2",
        "outputId": "ec97d844-4bf9-43b9-a5de-24f064a00437",
        "colab": {
          "base_uri": "https://localhost:8080/"
        }
      },
      "outputs": [
        {
          "output_type": "stream",
          "name": "stdout",
          "text": [
            "+-------------+---------------+\n",
            "|department_id|avg_dept_salary|\n",
            "+-------------+---------------+\n",
            "|          101|        55000.0|\n",
            "|          104|        54000.0|\n",
            "|          102|        51750.0|\n",
            "|          103|        58000.0|\n",
            "|          106|        69000.0|\n",
            "|          105|        55500.0|\n",
            "+-------------+---------------+\n",
            "\n"
          ]
        }
      ],
      "source": [
        "\n",
        "emp_avg.show()"
      ]
    },
    {
      "cell_type": "code",
      "execution_count": 16,
      "id": "23e1d434-33a2-43c0-a6a7-61674f4d746f",
      "metadata": {
        "id": "23e1d434-33a2-43c0-a6a7-61674f4d746f",
        "outputId": "90f3d421-b4d9-491c-ebb1-f1ed5d6c2cfd",
        "colab": {
          "base_uri": "https://localhost:8080/"
        }
      },
      "outputs": [
        {
          "output_type": "stream",
          "name": "stdout",
          "text": [
            "root\n",
            " |-- employee_id: string (nullable = true)\n",
            " |-- department_id: string (nullable = true)\n",
            " |-- name: string (nullable = true)\n",
            " |-- age: string (nullable = true)\n",
            " |-- gender: string (nullable = true)\n",
            " |-- salary: string (nullable = true)\n",
            " |-- hire_date: string (nullable = true)\n",
            "\n",
            "root\n",
            " |-- employee_id: string (nullable = true)\n",
            " |-- salary: string (nullable = true)\n",
            " |-- department_id: string (nullable = true)\n",
            " |-- name: string (nullable = true)\n",
            " |-- hire_date: string (nullable = true)\n",
            " |-- gender: string (nullable = true)\n",
            " |-- age: string (nullable = true)\n",
            "\n"
          ]
        }
      ],
      "source": [
        "# Bonus TIP - unionByName\n",
        "# In case the column sequence is different\n",
        "emp_data_2_other = emp_data_2.select(\"employee_id\", \"salary\", \"department_id\", \"name\", \"hire_date\", \"gender\", \"age\")\n",
        "\n",
        "emp_data_1.printSchema()\n",
        "emp_data_2_other.printSchema()\n",
        "\n"
      ]
    },
    {
      "cell_type": "code",
      "execution_count": 17,
      "id": "50714634-3ec9-4a1a-8888-b8f83710d325",
      "metadata": {
        "id": "50714634-3ec9-4a1a-8888-b8f83710d325"
      },
      "outputs": [],
      "source": [
        "emp_fixed = emp_data_1.unionByName(emp_data_2_other)"
      ]
    },
    {
      "cell_type": "code",
      "execution_count": 18,
      "id": "09e1f5ae-8fc6-4c08-9803-d1cf094ebf77",
      "metadata": {
        "id": "09e1f5ae-8fc6-4c08-9803-d1cf094ebf77",
        "outputId": "a16e8b02-e5b4-4313-97fe-45dcad5e330d",
        "colab": {
          "base_uri": "https://localhost:8080/"
        }
      },
      "outputs": [
        {
          "output_type": "stream",
          "name": "stdout",
          "text": [
            "+-----------+-------------+-------------+---+------+------+----------+\n",
            "|employee_id|department_id|         name|age|gender|salary| hire_date|\n",
            "+-----------+-------------+-------------+---+------+------+----------+\n",
            "|        001|          101|     John Doe| 30|  Male| 50000|2015-01-01|\n",
            "|        002|          101|   Jane Smith| 25|Female| 45000|2016-02-15|\n",
            "|        003|          102|    Bob Brown| 35|  Male| 55000|2014-05-01|\n",
            "|        004|          102|    Alice Lee| 28|Female| 48000|2017-09-30|\n",
            "|        005|          103|    Jack Chan| 40|  Male| 60000|2013-04-01|\n",
            "|        006|          103|    Jill Wong| 32|Female| 52000|2018-07-01|\n",
            "|        007|          101|James Johnson| 42|  Male| 70000|2012-03-15|\n",
            "|        008|          102|     Kate Kim| 29|Female| 51000|2019-10-01|\n",
            "|        009|          103|      Tom Tan| 33|  Male| 58000|2016-06-01|\n",
            "|        010|          104|     Lisa Lee| 27|Female| 47000|2018-08-01|\n",
            "|        011|          104|   David Park| 38|  Male| 65000|2015-11-01|\n",
            "|        012|          105|   Susan Chen| 31|Female| 54000|2017-02-15|\n",
            "|        013|          106|    Brian Kim| 45|  Male| 75000|2011-07-01|\n",
            "|        014|          107|    Emily Lee| 26|Female| 46000|2019-01-01|\n",
            "|        015|          106|  Michael Lee| 37|  Male| 63000|2014-09-30|\n",
            "|        016|          107|  Kelly Zhang| 30|Female| 49000|2018-04-01|\n",
            "|        017|          105|  George Wang| 34|  Male| 57000|2016-03-15|\n",
            "|        018|          104|    Nancy Liu| 29|      | 50000|2017-06-01|\n",
            "|        019|          103|  Steven Chen| 36|  Male| 62000|2015-08-01|\n",
            "|        020|          102|    Grace Kim| 32|Female| 53000|2018-11-01|\n",
            "+-----------+-------------+-------------+---+------+------+----------+\n",
            "\n"
          ]
        }
      ],
      "source": [
        "emp_fixed.show()"
      ]
    },
    {
      "cell_type": "code",
      "execution_count": 19,
      "id": "b0997add-fd5b-4b17-9f78-39307c9579bb",
      "metadata": {
        "id": "b0997add-fd5b-4b17-9f78-39307c9579bb",
        "outputId": "9b7a8531-617e-4863-e251-ab343b2e0fb1",
        "colab": {
          "base_uri": "https://localhost:8080/"
        }
      },
      "outputs": [
        {
          "output_type": "execute_result",
          "data": {
            "text/plain": [
              "20"
            ]
          },
          "metadata": {},
          "execution_count": 19
        }
      ],
      "source": [
        "emp.count()"
      ]
    }
  ],
  "metadata": {
    "kernelspec": {
      "display_name": "Python 3 (ipykernel)",
      "language": "python",
      "name": "python3"
    },
    "language_info": {
      "codemirror_mode": {
        "name": "ipython",
        "version": 3
      },
      "file_extension": ".py",
      "mimetype": "text/x-python",
      "name": "python",
      "nbconvert_exporter": "python",
      "pygments_lexer": "ipython3",
      "version": "3.10.9"
    },
    "colab": {
      "provenance": []
    }
  },
  "nbformat": 4,
  "nbformat_minor": 5
}